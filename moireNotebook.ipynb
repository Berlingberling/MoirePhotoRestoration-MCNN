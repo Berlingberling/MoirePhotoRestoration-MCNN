{
 "cells": [
  {
   "cell_type": "markdown",
   "metadata": {},
   "source": [
    "# MoireCNN"
   ]
  },
  {
   "cell_type": "markdown",
   "metadata": {},
   "source": [
    "## 导入各种库"
   ]
  },
  {
   "cell_type": "code",
   "execution_count": 1,
   "metadata": {},
   "outputs": [],
   "source": [
    "import gzip, struct\n",
    "import numpy as np\n",
    "\n",
    "import torch\n",
    "from torch import nn\n",
    "from torch.nn import functional as F\n",
    "from torch.autograd import Variable\n",
    "\n",
    "from torch.utils.data import TensorDataset, DataLoader\n",
    "from torchvision import transforms\n",
    "from torchvision.utils import make_grid\n",
    "import math\n",
    "\n",
    "torch.cuda.set_device(5)\n",
    "#上面这一语句设定了默认调用的GPU编号，如果没有GPU…可以注释掉这一行，但是没有GPU真的能跑得动这个网络吗？"
   ]
  },
  {
   "cell_type": "markdown",
   "metadata": {},
   "source": [
    "## 定义网络结构"
   ]
  },
  {
   "cell_type": "code",
   "execution_count": 2,
   "metadata": {},
   "outputs": [],
   "source": [
    "class MoireCNN(nn.Module):\n",
    "\n",
    "    def conv(self, channels):\n",
    "        x=nn.Sequential(\n",
    "            nn.Conv2d(channels, channels, 3, 1, 1),\n",
    "            nn.ReLU(True),\n",
    "            nn.Conv2d(channels, channels, 3, 1, 1),\n",
    "            nn.ReLU(True),\n",
    "            nn.Conv2d(channels, channels, 3, 1, 1),\n",
    "            nn.ReLU(True),\n",
    "            nn.Conv2d(channels, channels, 3, 1, 1),\n",
    "            nn.ReLU(True),\n",
    "            nn.Conv2d(channels, channels, 3, 1, 1),\n",
    "            nn.ReLU(True)\n",
    "        )\n",
    "        return x\n",
    "\n",
    "    def __init__(self):\n",
    "\n",
    "        super().__init__()\n",
    "        \n",
    "        self.s11=nn.Sequential(\n",
    "            nn.Conv2d(3, 32, 3, 1, 1),\n",
    "            nn.ReLU(True),\n",
    "            nn.Conv2d(32, 32, 3, 1, 1)\n",
    "        )\n",
    "        self.s12=nn.Conv2d(32, 3, 3, 1, 1)\n",
    "        self.s13=self.conv(32)\n",
    "        \n",
    "        self.s21=nn.Sequential(\n",
    "            nn.Conv2d(32, 32, 3, 2, 1),\n",
    "            nn.ReLU(True),\n",
    "            nn.Conv2d(32, 64, 3, 1, 1)\n",
    "        )\n",
    "        self.s22=nn.Sequential(\n",
    "            nn.ConvTranspose2d(64, 32, 4, 2, 1),\n",
    "            nn.ReLU(True),\n",
    "            nn.Conv2d(32, 3, 3, 1, 1)\n",
    "        )\n",
    "        self.s23=self.conv(64)\n",
    "        \n",
    "        self.s31=nn.Sequential(\n",
    "            nn.Conv2d(64, 64, 3, 2, 1),\n",
    "            nn.ReLU(True),\n",
    "            nn.Conv2d(64, 64, 3, 1, 1)\n",
    "        )\n",
    "        self.s32=nn.Sequential(\n",
    "            nn.ConvTranspose2d(64, 64, 4, 2, 1),\n",
    "            nn.ReLU(True),\n",
    "            nn.ConvTranspose2d(64, 32, 4, 2, 1),\n",
    "            nn.ReLU(True),\n",
    "            nn.Conv2d(32, 3, 3, 1, 1)\n",
    "        )\n",
    "        self.s33=self.conv(64)\n",
    "        \n",
    "        self.s41=nn.Sequential(\n",
    "            nn.Conv2d(64, 64, 3, 2, 1),\n",
    "            nn.ReLU(True),\n",
    "            nn.Conv2d(64, 64, 3, 1, 1)\n",
    "        )\n",
    "        self.s42=nn.Sequential(\n",
    "            nn.ConvTranspose2d(64, 64, 4, 2, 1),\n",
    "            nn.ReLU(True),\n",
    "            nn.ConvTranspose2d(64, 32, 4, 2, 1),\n",
    "            nn.ReLU(True),\n",
    "            nn.ConvTranspose2d(32, 32, 4, 2, 1),\n",
    "            nn.ReLU(True),\n",
    "            nn.Conv2d(32, 3, 3, 1, 1)\n",
    "        )\n",
    "        self.s43=self.conv(64)\n",
    "        \n",
    "        self.s51=nn.Sequential(\n",
    "            nn.Conv2d(64, 64, 3, 2, 1),\n",
    "            nn.ReLU(True),\n",
    "            nn.Conv2d(64, 64, 3, 1, 1)\n",
    "        )\n",
    "        self.s52=nn.Sequential(\n",
    "            nn.ConvTranspose2d(64, 64, 4, 2, 1),\n",
    "            nn.ReLU(True),\n",
    "            nn.ConvTranspose2d(64, 32, 4, 2, 1),\n",
    "            nn.ReLU(True),\n",
    "            nn.ConvTranspose2d(32, 32, 4, 2, 1),\n",
    "            nn.ReLU(True),\n",
    "            nn.ConvTranspose2d(32, 32, 4, 2, 1),\n",
    "            nn.ReLU(True),\n",
    "            nn.Conv2d(32, 3, 3, 1, 1)\n",
    "        )\n",
    "        self.s53=self.conv(64)\n",
    "        \n",
    "    def forward(self, x):\n",
    "        x1=self.s11(x)\n",
    "        x2=self.s21(x1)\n",
    "        x3=self.s31(x2)\n",
    "        x4=self.s41(x3)\n",
    "        x5=self.s51(x4)\n",
    "        \n",
    "        x1=self.s12(self.s13(x1))\n",
    "        x2=self.s22(self.s23(x2))\n",
    "        x3=self.s32(self.s33(x3))\n",
    "        x4=self.s42(self.s43(x4))\n",
    "        x5=self.s52(self.s53(x5))\n",
    "\n",
    "        x=x1+x2+x3+x4+x5\n",
    "        \n",
    "        return x"
   ]
  },
  {
   "cell_type": "markdown",
   "metadata": {},
   "source": [
    "## 实验数据清理"
   ]
  },
  {
   "cell_type": "code",
   "execution_count": null,
   "metadata": {
    "tags": []
   },
   "outputs": [],
   "source": [
    "from PIL import ImageFile\n",
    "import os\n",
    "\n",
    "ImPar=ImageFile.Parser()\n",
    "M, N = 0, 0\n",
    "rootPic1 = \"/data_new/moire/trainData/source/\"\n",
    "rootPic2 = \"/data_new/moire/trainData/target/\"\n",
    "picDir1 = [rootPic1+i for i in os.listdir(rootPic1)]\n",
    "picDir2 = [rootPic2+i for i in os.listdir(rootPic2)]\n",
    "picDir1.sort()\n",
    "picDir2.sort()\n",
    "cot = 0\n",
    "\n",
    "print(len(picDir1), len(picDir2))\n",
    "\n",
    "for i in range(len(picDir1)):\n",
    "    with open(picDir1[i], \"rb\") as f:\n",
    "        ImPar=ImageFile.Parser()\n",
    "        chunk = f.read(2048)\n",
    "        count=2048\n",
    "        while chunk != \"\":\n",
    "            ImPar.feed(chunk)\n",
    "            if ImPar.image:\n",
    "                break\n",
    "            chunk = f.read(2048)\n",
    "            count+=2048\n",
    "        M, N = ImPar.image.size[0], ImPar.image.size[1]\n",
    "    if M < 260 or N < 260:\n",
    "        os.remove(picDir1[i])\n",
    "        os.remove(picDir2[i])\n",
    "        cot += 1\n",
    "\n",
    "print(\"Done! Get %d rubbish.\" % cot)\n"
   ]
  },
  {
   "cell_type": "markdown",
   "metadata": {},
   "source": [
    "## 定义train函数以及test函数"
   ]
  },
  {
   "cell_type": "code",
   "execution_count": 3,
   "metadata": {},
   "outputs": [],
   "source": [
    "def train(epoch):\n",
    "\n",
    "    model.train()\n",
    "    for batch_idx, (data, target) in enumerate(train_loader):\n",
    "        if use_gpu:\n",
    "            data, target = data.cuda(), target.cuda()\n",
    "        data, target = Variable(data), Variable(target)  \n",
    "\n",
    "        optimizer.zero_grad()\n",
    "        output = model(data)\n",
    "        loss = criterion(output, target)\n",
    "        loss.backward()\n",
    "        optimizer.step()\n",
    "        \n",
    "        if batch_idx % 10 == 0:\n",
    "            print('Train Epoch: {} [{}/{} ({:.0f}%)]\\tLoss: {:.6f}'.format(\n",
    "                epoch, batch_idx * len(data), len(train_loader.dataset),\n",
    "                100. * batch_idx / len(train_loader), loss.data))"
   ]
  },
  {
   "cell_type": "code",
   "execution_count": 4,
   "metadata": {},
   "outputs": [],
   "source": [
    "from PIL import Image\n",
    "from torchvision import transforms\n",
    "import matplotlib.pyplot as plt\n",
    "import numpy as np\n",
    "\n",
    "def test(idx):\n",
    "    tf1=transforms.Compose([\n",
    "        transforms.CenterCrop(256),\n",
    "        transforms.ToTensor()\n",
    "    ])\n",
    "\n",
    "    tf2=transforms.ToPILImage()\n",
    "\n",
    "    model.eval()\n",
    "    root=\"/data_new/moire/testData/source/\"\n",
    "    testData=[root+i for i in os.listdir(root)]\n",
    "    testData.sort()\n",
    "    \n",
    "    t = tf1(Image.open(testData[idx])).cuda()\n",
    "    with torch.no_grad():\n",
    "        y = model(t.unsqueeze(0)).squeeze().cpu()\n",
    "    t = t.cpu()\n",
    "    print(t.shape, y.shape)\n",
    "    img = make_grid(list((t, y)))\n",
    "    plt.imshow(img.permute(1, 2, 0))\n",
    "    plt.show()"
   ]
  },
  {
   "cell_type": "markdown",
   "metadata": {},
   "source": [
    "## 定义读取数据集的类"
   ]
  },
  {
   "cell_type": "code",
   "execution_count": 5,
   "metadata": {
    "tags": []
   },
   "outputs": [],
   "source": [
    "import torch.utils.data as data\n",
    "from torchvision import transforms\n",
    "import os\n",
    "from PIL import Image\n",
    "from random import randint\n",
    "\n",
    "class MoirePic(data.Dataset):\n",
    "    def __init__(self, rootX, rootY, train=True):\n",
    "        self.train=train\n",
    "        self.picX=[rootX+i for i in os.listdir(rootX)]\n",
    "        self.picY=[rootY+i for i in os.listdir(rootY)]\n",
    "        self.picX.sort()\n",
    "        self.picY.sort()\n",
    "        \n",
    "    def __getitem__(self, index):\n",
    "        tf=transforms.Compose([transforms.CenterCrop(256),\n",
    "                               transforms.ToTensor()])\n",
    "\n",
    "        def rand_crop(data,label):\n",
    "            img_w, img_h = 256, 256\n",
    "\n",
    "            width1 = randint(0, data.shape[1] - img_w)\n",
    "            height1 = randint(0, data.shape[2] - img_h)\n",
    "            width2 = width1 + img_w\n",
    "            height2 = height1 + img_h \n",
    "\n",
    "            return (data[:,width1:width2,height1:height2],\n",
    "            label[:,width1:width2,height1:height2])\n",
    "\n",
    "        if self.train:\n",
    "            pathX, pathY=self.picX[index], self.picY[index]\n",
    "            imgX, imgY=Image.open(pathX), Image.open(pathY)\n",
    "            return (tf(imgX), tf(imgY))\n",
    "    \n",
    "    def __len__(self):\n",
    "        return len(self.picX)"
   ]
  },
  {
   "cell_type": "markdown",
   "metadata": {},
   "source": [
    "以下是test函数使用范例，就是用来肉眼观察对比model的效果的，用于粗略判断模型效果，毕竟摩尔纹方面没有什么好的指标可以评判视觉效果，而像MSE之流的量化指标有时候并不能很好地衡量，MSE相同的两张处理后的图片可能在视觉效果上有很大的出入。\n",
    "左边是原图，右边是model处理后的图片。\n",
    "test函数的输入值是index，也就是从测试集中抽取图片的下标，取值范围可以从0到十万多。"
   ]
  },
  {
   "cell_type": "code",
   "execution_count": 10,
   "metadata": {
    "tags": []
   },
   "outputs": [
    {
     "name": "stdout",
     "output_type": "stream",
     "text": [
      "torch.Size([3, 256, 256]) torch.Size([3, 256, 256])\n"
     ]
    },
    {
     "data": {
      "image/png": "[encoded data removed]",
      "text/plain": [
       "<Figure size 432x288 with 1 Axes>"
      ]
     },
     "metadata": {
      "needs_background": "light"
     },
     "output_type": "display_data"
    }
   ],
   "source": [
    "test(11)"
   ]
  },
  {
   "cell_type": "markdown",
   "metadata": {},
   "source": [
    "下面进行了数据集加载等操作。其中重要的参数有batchsize和num_workers，具体可以自行调节，如果没有GPU就要设置pin_memory=False。"
   ]
  },
  {
   "cell_type": "code",
   "execution_count": 64,
   "metadata": {},
   "outputs": [],
   "source": [
    "dataset=MoirePic(\"/data_new/moire/trainData/source/\",\n",
    "                \"/data_new/moire/trainData/target/\")\n",
    "# dataset=MoirePic(\"/home/zhengjun/moire/moire-data/ValidationMoire/\",\n",
    "#                 \"/home/zhengjun/moire/moire-data/ValidationClear/\")\n",
    "use_gpu = torch.cuda.is_available()\n",
    "batch_size = 8\n",
    "kwargs = {'num_workers': 14, 'pin_memory': True}     \n",
    "train_loader = DataLoader(dataset=dataset, shuffle=True, batch_size=batch_size, **kwargs)"
   ]
  },
  {
   "cell_type": "code",
   "execution_count": 66,
   "metadata": {
    "tags": []
   },
   "outputs": [
    {
     "name": "stdout",
     "output_type": "stream",
     "text": [
      "USE GPU\n"
     ]
    }
   ],
   "source": [
    "#实例化网络\n",
    "model = MoireCNN()\n",
    "\n",
    "if use_gpu:\n",
    "    model = model.cuda()\n",
    "    # model = nn.DataParallel(model, device_ids=[3, 4, 5])\n",
    "    #如果能够使用多卡跑模型的话，可以恢复上面这条语句，device_ids是允许调用的GPU编号列表。\n",
    "    print('USE GPU')\n",
    "else:\n",
    "    print('USE CPU')\n",
    "\n",
    "criterion = nn.MSELoss()\n",
    "lr=0.0001\n",
    "optimizer = torch.optim.Adam(model.parameters(), lr=lr, betas=(0.9, 0.99), weight_decay=0.00001)"
   ]
  },
  {
   "cell_type": "code",
   "execution_count": 69,
   "metadata": {
    "tags": []
   },
   "outputs": [
    {
     "name": "stdout",
     "output_type": "stream",
     "text": [
      "Train Epoch: 0 [0/100 (0%)]\tLoss: 0.396826\n",
      "Train Epoch: 1 [0/100 (0%)]\tLoss: 0.215950\n",
      "Train Epoch: 2 [0/100 (0%)]\tLoss: 0.078023\n",
      "Train Epoch: 3 [0/100 (0%)]\tLoss: 0.097142\n",
      "Train Epoch: 4 [0/100 (0%)]\tLoss: 0.028610\n"
     ]
    }
   ],
   "source": [
    "for epoch in range(50):\n",
    "    train(epoch)\n",
    "\n",
    "torch.save(model, \"moire-1.pth\")"
   ]
  },
  {
   "cell_type": "code",
   "execution_count": 7,
   "metadata": {},
   "outputs": [
    {
     "data": {
      "text/plain": [
       "MoireCNN(\n",
       "  (s11): Sequential(\n",
       "    (0): Conv2d(3, 32, kernel_size=(3, 3), stride=(1, 1), padding=(1, 1))\n",
       "    (1): ReLU(inplace=True)\n",
       "    (2): Conv2d(32, 32, kernel_size=(3, 3), stride=(1, 1), padding=(1, 1))\n",
       "  )\n",
       "  (s12): Conv2d(32, 3, kernel_size=(3, 3), stride=(1, 1), padding=(1, 1))\n",
       "  (s13): Sequential(\n",
       "    (0): Conv2d(32, 32, kernel_size=(3, 3), stride=(1, 1), padding=(1, 1))\n",
       "    (1): ReLU(inplace=True)\n",
       "    (2): Conv2d(32, 32, kernel_size=(3, 3), stride=(1, 1), padding=(1, 1))\n",
       "    (3): ReLU(inplace=True)\n",
       "    (4): Conv2d(32, 32, kernel_size=(3, 3), stride=(1, 1), padding=(1, 1))\n",
       "    (5): ReLU(inplace=True)\n",
       "    (6): Conv2d(32, 32, kernel_size=(3, 3), stride=(1, 1), padding=(1, 1))\n",
       "    (7): ReLU(inplace=True)\n",
       "    (8): Conv2d(32, 32, kernel_size=(3, 3), stride=(1, 1), padding=(1, 1))\n",
       "    (9): ReLU(inplace=True)\n",
       "  )\n",
       "  (s21): Sequential(\n",
       "    (0): Conv2d(32, 32, kernel_size=(3, 3), stride=(2, 2), padding=(1, 1))\n",
       "    (1): ReLU(inplace=True)\n",
       "    (2): Conv2d(32, 64, kernel_size=(3, 3), stride=(1, 1), padding=(1, 1))\n",
       "  )\n",
       "  (s22): Sequential(\n",
       "    (0): ConvTranspose2d(64, 32, kernel_size=(4, 4), stride=(2, 2), padding=(1, 1))\n",
       "    (1): ReLU(inplace=True)\n",
       "    (2): Conv2d(32, 3, kernel_size=(3, 3), stride=(1, 1), padding=(1, 1))\n",
       "  )\n",
       "  (s23): Sequential(\n",
       "    (0): Conv2d(64, 64, kernel_size=(3, 3), stride=(1, 1), padding=(1, 1))\n",
       "    (1): ReLU(inplace=True)\n",
       "    (2): Conv2d(64, 64, kernel_size=(3, 3), stride=(1, 1), padding=(1, 1))\n",
       "    (3): ReLU(inplace=True)\n",
       "    (4): Conv2d(64, 64, kernel_size=(3, 3), stride=(1, 1), padding=(1, 1))\n",
       "    (5): ReLU(inplace=True)\n",
       "    (6): Conv2d(64, 64, kernel_size=(3, 3), stride=(1, 1), padding=(1, 1))\n",
       "    (7): ReLU(inplace=True)\n",
       "    (8): Conv2d(64, 64, kernel_size=(3, 3), stride=(1, 1), padding=(1, 1))\n",
       "    (9): ReLU(inplace=True)\n",
       "  )\n",
       "  (s31): Sequential(\n",
       "    (0): Conv2d(64, 64, kernel_size=(3, 3), stride=(2, 2), padding=(1, 1))\n",
       "    (1): ReLU(inplace=True)\n",
       "    (2): Conv2d(64, 64, kernel_size=(3, 3), stride=(1, 1), padding=(1, 1))\n",
       "  )\n",
       "  (s32): Sequential(\n",
       "    (0): ConvTranspose2d(64, 64, kernel_size=(4, 4), stride=(2, 2), padding=(1, 1))\n",
       "    (1): ReLU(inplace=True)\n",
       "    (2): ConvTranspose2d(64, 32, kernel_size=(4, 4), stride=(2, 2), padding=(1, 1))\n",
       "    (3): ReLU(inplace=True)\n",
       "    (4): Conv2d(32, 3, kernel_size=(3, 3), stride=(1, 1), padding=(1, 1))\n",
       "  )\n",
       "  (s33): Sequential(\n",
       "    (0): Conv2d(64, 64, kernel_size=(3, 3), stride=(1, 1), padding=(1, 1))\n",
       "    (1): ReLU(inplace=True)\n",
       "    (2): Conv2d(64, 64, kernel_size=(3, 3), stride=(1, 1), padding=(1, 1))\n",
       "    (3): ReLU(inplace=True)\n",
       "    (4): Conv2d(64, 64, kernel_size=(3, 3), stride=(1, 1), padding=(1, 1))\n",
       "    (5): ReLU(inplace=True)\n",
       "    (6): Conv2d(64, 64, kernel_size=(3, 3), stride=(1, 1), padding=(1, 1))\n",
       "    (7): ReLU(inplace=True)\n",
       "    (8): Conv2d(64, 64, kernel_size=(3, 3), stride=(1, 1), padding=(1, 1))\n",
       "    (9): ReLU(inplace=True)\n",
       "  )\n",
       "  (s41): Sequential(\n",
       "    (0): Conv2d(64, 64, kernel_size=(3, 3), stride=(2, 2), padding=(1, 1))\n",
       "    (1): ReLU(inplace=True)\n",
       "    (2): Conv2d(64, 64, kernel_size=(3, 3), stride=(1, 1), padding=(1, 1))\n",
       "  )\n",
       "  (s42): Sequential(\n",
       "    (0): ConvTranspose2d(64, 64, kernel_size=(4, 4), stride=(2, 2), padding=(1, 1))\n",
       "    (1): ReLU(inplace=True)\n",
       "    (2): ConvTranspose2d(64, 32, kernel_size=(4, 4), stride=(2, 2), padding=(1, 1))\n",
       "    (3): ReLU(inplace=True)\n",
       "    (4): ConvTranspose2d(32, 32, kernel_size=(4, 4), stride=(2, 2), padding=(1, 1))\n",
       "    (5): ReLU(inplace=True)\n",
       "    (6): Conv2d(32, 3, kernel_size=(3, 3), stride=(1, 1), padding=(1, 1))\n",
       "  )\n",
       "  (s43): Sequential(\n",
       "    (0): Conv2d(64, 64, kernel_size=(3, 3), stride=(1, 1), padding=(1, 1))\n",
       "    (1): ReLU(inplace=True)\n",
       "    (2): Conv2d(64, 64, kernel_size=(3, 3), stride=(1, 1), padding=(1, 1))\n",
       "    (3): ReLU(inplace=True)\n",
       "    (4): Conv2d(64, 64, kernel_size=(3, 3), stride=(1, 1), padding=(1, 1))\n",
       "    (5): ReLU(inplace=True)\n",
       "    (6): Conv2d(64, 64, kernel_size=(3, 3), stride=(1, 1), padding=(1, 1))\n",
       "    (7): ReLU(inplace=True)\n",
       "    (8): Conv2d(64, 64, kernel_size=(3, 3), stride=(1, 1), padding=(1, 1))\n",
       "    (9): ReLU(inplace=True)\n",
       "  )\n",
       "  (s51): Sequential(\n",
       "    (0): Conv2d(64, 64, kernel_size=(3, 3), stride=(2, 2), padding=(1, 1))\n",
       "    (1): ReLU(inplace=True)\n",
       "    (2): Conv2d(64, 64, kernel_size=(3, 3), stride=(1, 1), padding=(1, 1))\n",
       "  )\n",
       "  (s52): Sequential(\n",
       "    (0): ConvTranspose2d(64, 64, kernel_size=(4, 4), stride=(2, 2), padding=(1, 1))\n",
       "    (1): ReLU(inplace=True)\n",
       "    (2): ConvTranspose2d(64, 32, kernel_size=(4, 4), stride=(2, 2), padding=(1, 1))\n",
       "    (3): ReLU(inplace=True)\n",
       "    (4): ConvTranspose2d(32, 32, kernel_size=(4, 4), stride=(2, 2), padding=(1, 1))\n",
       "    (5): ReLU(inplace=True)\n",
       "    (6): ConvTranspose2d(32, 32, kernel_size=(4, 4), stride=(2, 2), padding=(1, 1))\n",
       "    (7): ReLU(inplace=True)\n",
       "    (8): Conv2d(32, 3, kernel_size=(3, 3), stride=(1, 1), padding=(1, 1))\n",
       "  )\n",
       "  (s53): Sequential(\n",
       "    (0): Conv2d(64, 64, kernel_size=(3, 3), stride=(1, 1), padding=(1, 1))\n",
       "    (1): ReLU(inplace=True)\n",
       "    (2): Conv2d(64, 64, kernel_size=(3, 3), stride=(1, 1), padding=(1, 1))\n",
       "    (3): ReLU(inplace=True)\n",
       "    (4): Conv2d(64, 64, kernel_size=(3, 3), stride=(1, 1), padding=(1, 1))\n",
       "    (5): ReLU(inplace=True)\n",
       "    (6): Conv2d(64, 64, kernel_size=(3, 3), stride=(1, 1), padding=(1, 1))\n",
       "    (7): ReLU(inplace=True)\n",
       "    (8): Conv2d(64, 64, kernel_size=(3, 3), stride=(1, 1), padding=(1, 1))\n",
       "    (9): ReLU(inplace=True)\n",
       "  )\n",
       ")"
      ]
     },
     "execution_count": 7,
     "metadata": {},
     "output_type": "execute_result"
    }
   ],
   "source": [
    "import torch\n",
    "#需要注意的是，在加载模型之前，必须确保模型所使用的网络结构没有变化，也就是MoireCNN类不变，因为在重建model的时候需要调用到对应的类\n",
    "model = torch.load(\"moire-1.pth\")\n",
    "model.eval()"
   ]
  },
  {
   "cell_type": "code",
   "execution_count": null,
   "metadata": {},
   "outputs": [],
   "source": []
  }
 ],
 "metadata": {
  "kernelspec": {
   "display_name": "Python 3.6.9 64-bit",
   "language": "python",
   "name": "python36964bitb3e0c74a432742f2a6e4a0a09c4eef77"
  },
  "language_info": {
   "codemirror_mode": {
    "name": "ipython",
    "version": 3
   },
   "file_extension": ".py",
   "mimetype": "text/x-python",
   "name": "python",
   "nbconvert_exporter": "python",
   "pygments_lexer": "ipython3",
   "version": "3.6.9"
  },
  "toc": {
   "base_numbering": 1,
   "nav_menu": {},
   "number_sections": true,
   "sideBar": true,
   "skip_h1_title": true,
   "title_cell": "Table of Contents",
   "title_sidebar": "Contents",
   "toc_cell": false,
   "toc_position": {},
   "toc_section_display": true,
   "toc_window_display": false
  },
  "varInspector": {
   "cols": {
    "lenName": 16,
    "lenType": 16,
    "lenVar": 40
   },
   "kernels_config": {
    "python": {
     "delete_cmd_postfix": "",
     "delete_cmd_prefix": "del ",
     "library": "var_list.py",
     "varRefreshCmd": "print(var_dic_list())"
    },
    "r": {
     "delete_cmd_postfix": ") ",
     "delete_cmd_prefix": "rm(",
     "library": "var_list.r",
     "varRefreshCmd": "cat(var_dic_list()) "
    }
   },
   "types_to_exclude": [
    "module",
    "function",
    "builtin_function_or_method",
    "instance",
    "_Feature"
   ],
   "window_display": false
  }
 },
 "nbformat": 4,
 "nbformat_minor": 4
}
